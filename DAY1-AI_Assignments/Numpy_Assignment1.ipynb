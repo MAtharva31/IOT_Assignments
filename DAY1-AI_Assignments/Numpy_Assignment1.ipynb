{
 "cells": [
  {
   "cell_type": "code",
   "execution_count": 1,
   "id": "18a35cef-e4a5-4045-a1e6-b752de8bd22c",
   "metadata": {},
   "outputs": [
    {
     "name": "stdout",
     "output_type": "stream",
     "text": [
      "Original array:\n",
      "[  1   7  13 105]\n",
      "Size of the memory occupied by the said array:\n",
      "32 bytes\n"
     ]
    }
   ],
   "source": [
    "# Q.1 Write a NumPy program to create an array with the values 1, 7, 13, 105    and determine the size of the memory occupied by the array.\n",
    "\n",
    "\n",
    "import numpy as np\n",
    "X = np.array([1, 7, 13, 105])\n",
    "\n",
    "print(\"Original array:\")\n",
    "print(X)\n",
    "\n",
    "\n",
    "print(\"Size of the memory occupied by the said array:\")\n",
    "print(\"%d bytes\" % (X.size * X.itemsize)) "
   ]
  },
  {
   "cell_type": "code",
   "execution_count": 2,
   "id": "dfc6b9cb-afa8-44c7-a4c0-5e5855c59b33",
   "metadata": {},
   "outputs": [
    {
     "name": "stdout",
     "output_type": "stream",
     "text": [
      "Original numbers:\n",
      "[3 5]\n",
      "[2 5]\n",
      "Comparison - greater\n",
      "[ True False]\n",
      "Comparison - greater_equal\n",
      "[ True  True]\n",
      "Comparison - less\n",
      "[False False]\n",
      "Comparison - less_equal\n",
      "[False  True]\n"
     ]
    }
   ],
   "source": [
    "#  2. Write a NumPy program to create an element-wise comparison (greater,    greater_equal, less and less_equal) of two given arrays.\n",
    "\n",
    "import numpy as np\n",
    "x = np.array([3, 5])\n",
    "y = np.array([2, 5])\n",
    "\n",
    "print(\"Original numbers:\")\n",
    "print(x)\n",
    "print(y)\n",
    "\n",
    "\n",
    "print(\"Comparison - greater\")\n",
    "print(np.greater(x, y))\n",
    "\n",
    "print(\"Comparison - greater_equal\")\n",
    "print(np.greater_equal(x, y))\n",
    "\n",
    "print(\"Comparison - less\")\n",
    "print(np.less(x, y))\n",
    "\n",
    "print(\"Comparison - less_equal\")\n",
    "print(np.less_equal(x, y)) "
   ]
  },
  {
   "cell_type": "code",
   "execution_count": 3,
   "id": "12ce62a2-1efc-44ab-bf16-29b6da10fab1",
   "metadata": {},
   "outputs": [
    {
     "name": "stdout",
     "output_type": "stream",
     "text": [
      "An array of 10 zeros:\n",
      "[0. 0. 0. 0. 0. 0. 0. 0. 0. 0.]\n",
      "An array of 10 ones:\n",
      "[1. 1. 1. 1. 1. 1. 1. 1. 1. 1.]\n",
      "An array of 10 fives:\n",
      "[5. 5. 5. 5. 5. 5. 5. 5. 5. 5.]\n"
     ]
    }
   ],
   "source": [
    "#3.  Write a NumPy program to create an array of 10 zeros, 10 ones, 10    fives, 10 tens, 10 twentys and 10 fiftys.\n",
    "\n",
    "\n",
    "import numpy as np\n",
    "array = np.zeros(10)\n",
    "print(\"An array of 10 zeros:\")\n",
    "print(array)\n",
    "array = np.ones(10)\n",
    "print(\"An array of 10 ones:\")\n",
    "print(array)\n",
    "array = np.ones(10) * 5\n",
    "print(\"An array of 10 fives:\")\n",
    "print(array) \n"
   ]
  },
  {
   "cell_type": "code",
   "execution_count": 4,
   "id": "6f28adf9-7d0a-4275-a010-19119db9faf9",
   "metadata": {},
   "outputs": [
    {
     "name": "stdout",
     "output_type": "stream",
     "text": [
      "Array of the integers from 30 to 70\n",
      "[30 31 32 33 34 35 36 37 38 39 40 41 42 43 44 45 46 47 48 49 50 51 52 53\n",
      " 54 55 56 57 58 59 60 61 62 63 64 65 66 67 68 69 70]\n"
     ]
    }
   ],
   "source": [
    "#4. Write a NumPy program to create an array of integers from 30 to 70.\n",
    "\n",
    "import numpy as np\n",
    "array = np.arange(30, 71)\n",
    "print(\"Array of the integers from 30 to 70\")\n",
    "print(array) "
   ]
  },
  {
   "cell_type": "code",
   "execution_count": 5,
   "id": "51f784da-364d-4e41-9fbe-d72132c2a944",
   "metadata": {},
   "outputs": [
    {
     "name": "stdout",
     "output_type": "stream",
     "text": [
      "Array of the integers from 50 to 95\n",
      "[50 51 52 53 54 55 56 57 58 59 60 61 62 63 64 65 66 67 68 69 70 71 72 73\n",
      " 74 75 76 77 78 79 80 81 82 83 84 85 86 87 88 89 90 91 92 93 94]\n"
     ]
    }
   ],
   "source": [
    "# 5. Write a NumPy program to create an array of integers from 50 to 95.\n",
    "\n",
    "import numpy as np\n",
    "array = np.arange(50, 95)\n",
    "print(\"Array of the integers from 50 to 95\")\n",
    "print(array) "
   ]
  },
  {
   "cell_type": "code",
   "execution_count": 8,
   "id": "5eea4089-70b7-48ed-8a87-e93fdaa257c3",
   "metadata": {},
   "outputs": [
    {
     "name": "stdout",
     "output_type": "stream",
     "text": [
      "Array of the integers from 20 to 80\n",
      "[20 22 24 26 28 30 32 34 36 38 40 42 44 46 48 50 52 54 56 58 60 62 64 66\n",
      " 68 70 72 74 76 78]\n"
     ]
    }
   ],
   "source": [
    "# 6. Write a NumPy program to create an array of all even integers from 20 to 80.\n",
    "\n",
    "import numpy as np\n",
    "array = np.arange(20, 80, 2)\n",
    "print(\"Array of the integers from 20 to 80\")\n",
    "print(array) "
   ]
  },
  {
   "cell_type": "code",
   "execution_count": 9,
   "id": "238f5ca4-d254-4333-9f8a-687f0f8717b3",
   "metadata": {},
   "outputs": [
    {
     "name": "stdout",
     "output_type": "stream",
     "text": [
      "Array of the integers from 20 to 80\n",
      "[21 23 25 27 29 31 33 35 37 39 41 43 45 47 49 51 53 55 57 59 61 63 65 67\n",
      " 69 71 73 75 77 79]\n"
     ]
    }
   ],
   "source": [
    "# 7. Write a NumPy program to create an array of all odd integers from 20 to 80.\n",
    "import numpy as np\n",
    "array = np.arange(21, 80, 2)\n",
    "print(\"Array of the integers from 20 to 80\")\n",
    "print(array) "
   ]
  },
  {
   "cell_type": "code",
   "execution_count": 14,
   "id": "4fc866d2-bbe1-445b-8418-ab75c523bd6a",
   "metadata": {},
   "outputs": [
    {
     "name": "stdout",
     "output_type": "stream",
     "text": [
      "[22 37 25 27 30 27 25 16 34 22 25 13 34 24 21]\n"
     ]
    }
   ],
   "source": [
    "#8. Write a NumPy program to generate an array of 15 random numbers from 10    to 40.\n",
    "\n",
    "a1 = np.random.randint(10, 40,15)\n",
    "print(a1)"
   ]
  },
  {
   "cell_type": "code",
   "execution_count": 12,
   "id": "de72e1ba-6d0b-4ba0-b64e-e582806fe057",
   "metadata": {},
   "outputs": [
    {
     "name": "stdout",
     "output_type": "stream",
     "text": [
      "[47 31 40 40 45 35 32 49 49 39]\n"
     ]
    }
   ],
   "source": [
    "# 9. Write a NumPy program to generate an array of 10 random numbers from 30    to 50.\n",
    "a2 = np.random.randint(30, 50,10)\n",
    "print(a2)"
   ]
  },
  {
   "cell_type": "code",
   "execution_count": 15,
   "id": "aa050275-7635-4049-b194-6f3e3f29b59c",
   "metadata": {},
   "outputs": [
    {
     "name": "stdout",
     "output_type": "stream",
     "text": [
      "[68 64 63 51 69 52 84 71 66 86 72 67 81 58 80 68 65 78 86 65]\n"
     ]
    }
   ],
   "source": [
    "# 10. Write a NumPy program to generate an array of 20 random numbers from 50    to 90.\n",
    "a3 = np.random.randint(50, 90,20)\n",
    "print(a3)"
   ]
  },
  {
   "cell_type": "code",
   "execution_count": 16,
   "id": "16696c6a-a9c1-4262-900c-0d3b028c8785",
   "metadata": {},
   "outputs": [
    {
     "name": "stdout",
     "output_type": "stream",
     "text": [
      "[12 10  7  9 12  6  0]\n",
      "[-6 -2  5  5  4 -4  0]\n",
      "[27 24  6 14 32  5  0]\n",
      "[0.33333333 0.66666667 6.         3.5        2.         0.2\n",
      "        nan]\n"
     ]
    },
    {
     "name": "stderr",
     "output_type": "stream",
     "text": [
      "/tmp/ipykernel_12882/762299656.py:7: RuntimeWarning: invalid value encountered in divide\n",
      "  print(a1 / a2)\n"
     ]
    }
   ],
   "source": [
    "# 11. Create any two arrays & perform various mathematical operations. i.e. Addition, Substraction, Multiplication, Divide.\n",
    "a1 = np.array([3,4,6,7,8,1,0])\n",
    "a2 = np.array([9,6,1,2,4,5,0])\n",
    "print(a1 + a2) \n",
    "print(a1 - a2) \n",
    "print(a1 * a2) \n",
    "print(a1 / a2) \n"
   ]
  },
  {
   "cell_type": "code",
   "execution_count": 17,
   "id": "ff826249-bc57-4f50-a47d-10c8292b5066",
   "metadata": {},
   "outputs": [
    {
     "name": "stdout",
     "output_type": "stream",
     "text": [
      "[[10 11 12 13]\n",
      " [14 15 16 17]\n",
      " [18 19 20 21]]\n"
     ]
    }
   ],
   "source": [
    "# 12. Write a NumPy program to create a 3x4 matrix filled with values from 10 to 21.\n",
    "\n",
    "import numpy as np\n",
    "m = np.arange(10, 22).reshape((3, 4))\n",
    "print(m) \n"
   ]
  },
  {
   "cell_type": "code",
   "execution_count": 18,
   "id": "a8da4893-04de-4118-a37b-8743f4f5513c",
   "metadata": {},
   "outputs": [
    {
     "name": "stdout",
     "output_type": "stream",
     "text": [
      "[[1. 0. 0.]\n",
      " [0. 1. 0.]\n",
      " [0. 0. 1.]]\n"
     ]
    }
   ],
   "source": [
    "# 13. Write a NumPy program to create a 3x3 identity matrix, i.e. the diagonal     elements are 1, the rest are 0.\n",
    "\n",
    "\n",
    "import numpy as np\n",
    "x = np.eye(3)\n",
    "print(x)"
   ]
  },
  {
   "cell_type": "code",
   "execution_count": 19,
   "id": "ef116c67-5d62-462b-a32a-dba55b1c86ed",
   "metadata": {},
   "outputs": [
    {
     "name": "stdout",
     "output_type": "stream",
     "text": [
      "Original matrix:\n",
      "[[10 11 12 13]\n",
      " [14 15 16 17]\n",
      " [18 19 20 21]]\n",
      "Number of rows and columns of the said matrix:\n",
      "(3, 4)\n"
     ]
    }
   ],
   "source": [
    "#14. Write a NumPy program to find the number of rows and columns in a given     matrix. \n",
    "\n",
    "\n",
    "import numpy as np\n",
    "m = np.arange(10, 22).reshape((3, 4))\n",
    "print(\"Original matrix:\")\n",
    "print(m)\n",
    "print(\"Number of rows and columns of the said matrix:\")\n",
    "print(m.shape) "
   ]
  },
  {
   "cell_type": "code",
   "execution_count": 20,
   "id": "bda9bfc5-6578-4332-b389-096c01c6accb",
   "metadata": {},
   "outputs": [
    {
     "name": "stdout",
     "output_type": "stream",
     "text": [
      "[[1 0 0 0 0]\n",
      " [0 2 0 0 0]\n",
      " [0 0 3 0 0]\n",
      " [0 0 0 4 0]\n",
      " [0 0 0 0 5]]\n"
     ]
    }
   ],
   "source": [
    "# 15.  Write a NumPy program to create a 5x5 zero matrix with elements on the     main diagonal equal to 1, 2, 3, 4, 5.\n",
    "\n",
    "import numpy as np\n",
    "x = np.diag([1, 2, 3, 4, 5])\n",
    "print(x) "
   ]
  },
  {
   "cell_type": "code",
   "execution_count": 21,
   "id": "df43a5ce-4525-4c51-9dd0-9f9614e94272",
   "metadata": {},
   "outputs": [
    {
     "name": "stdout",
     "output_type": "stream",
     "text": [
      "[[[0.44984907 0.02478811 0.27792559]\n",
      "  [0.47909628 0.93156391 0.40527886]\n",
      "  [0.11655669 0.47966102 0.45540745]]\n",
      "\n",
      " [[0.87639735 0.40154247 0.56940139]\n",
      "  [0.02819533 0.93638462 0.84701392]\n",
      "  [0.95876888 0.74632069 0.07093794]]\n",
      "\n",
      " [[0.06664998 0.42257993 0.46810274]\n",
      "  [0.88771898 0.15363538 0.4925833 ]\n",
      "  [0.81195176 0.5066045  0.56740775]]]\n"
     ]
    }
   ],
   "source": [
    "# 16. Write a NumPy program to create a 3x3x3 array filled with arbitrary     values.\n",
    "\n",
    "\n",
    "import numpy as np\n",
    "x = np.random.random((3, 3, 3))\n",
    "print(x) "
   ]
  },
  {
   "cell_type": "code",
   "execution_count": 22,
   "id": "0067fe23-fe32-4918-952a-2456a8980b25",
   "metadata": {},
   "outputs": [
    {
     "name": "stdout",
     "output_type": "stream",
     "text": [
      "[[[0.76309888 0.83642833 0.36322114 0.61290609]\n",
      "  [0.49467639 0.16478384 0.50863146 0.21242554]\n",
      "  [0.39831564 0.015204   0.64853511 0.43421175]]\n",
      "\n",
      " [[0.12723841 0.78903073 0.8557613  0.2882001 ]\n",
      "  [0.05416918 0.87786832 0.86442583 0.42565652]\n",
      "  [0.85987022 0.94902944 0.23729926 0.94927407]]]\n"
     ]
    }
   ],
   "source": [
    "#17. Write a NumPy program to create a 2x3x4 array filled with arbitrary     values.\n",
    "\n",
    "import numpy as np\n",
    "x = np.random.random((2, 3, 4))\n",
    "print(x) "
   ]
  },
  {
   "cell_type": "code",
   "execution_count": 23,
   "id": "74a45ca0-946c-4fff-87fd-b29f86504cd5",
   "metadata": {},
   "outputs": [
    {
     "name": "stdout",
     "output_type": "stream",
     "text": [
      "Original List: [8.97, 35.09, 140, 26.92]\n",
      "One-dimensional NumPy array:  [  8.97  35.09 140.    26.92]\n"
     ]
    }
   ],
   "source": [
    "#18. Write a NumPy program to convert a list of numeric values into a one-    dimensional NumPy array.\n",
    "\n",
    "import numpy as np\n",
    "l = [8.97, 35.09, 140, 26.92]\n",
    "print(\"Original List:\", l)\n",
    "a = np.array(l)\n",
    "print(\"One-dimensional NumPy array: \", a)"
   ]
  },
  {
   "cell_type": "code",
   "execution_count": 24,
   "id": "fdd91759-0fb4-447e-915b-63df3996191f",
   "metadata": {},
   "outputs": [
    {
     "name": "stdout",
     "output_type": "stream",
     "text": [
      "[[ 2  3  4]\n",
      " [ 5  6  7]\n",
      " [ 8  9 10]]\n"
     ]
    }
   ],
   "source": [
    "# 19. Write a NumPy program to create a 3x3 matrix with values ranging from 2     to 10.\n",
    "import numpy as np\n",
    "x = np.arange(2, 11).reshape(3, 3)\n",
    "print(x)"
   ]
  },
  {
   "cell_type": "code",
   "execution_count": 25,
   "id": "5e05d678-cbb9-4bcf-8f33-10937a53fa15",
   "metadata": {},
   "outputs": [
    {
     "name": "stdout",
     "output_type": "stream",
     "text": [
      "[12 13 14 15 16 17 18 19 20 21 22 23 24 25 26 27 28 29 30 31 32 33 34 35\n",
      " 36 37]\n"
     ]
    }
   ],
   "source": [
    "#20. Write a NumPy program to create an array with values ranging from 12 to 38.\n",
    "import numpy as np\n",
    "x = np.arange(12, 38)\n",
    "print(x)"
   ]
  },
  {
   "cell_type": "code",
   "execution_count": 26,
   "id": "2973d1ce-4881-452e-8712-e240888453db",
   "metadata": {},
   "outputs": [
    {
     "name": "stdout",
     "output_type": "stream",
     "text": [
      "Original array:\n",
      "[15 16 17 18 19 20 21 22 23 24 25 26 27 28 29 30 31 32 33 34 35 36 37 38\n",
      " 39 40 41 42 43 44 45 46 47 48 49 50 51 52 53 54 55 56 57 58 59 60 61 62\n",
      " 63 64 65 66 67 68 69]\n",
      "Reverse array:\n",
      "[69 68 67 66 65 64 63 62 61 60 59 58 57 56 55 54 53 52 51 50 49 48 47 46\n",
      " 45 44 43 42 41 40 39 38 37 36 35 34 33 32 31 30 29 28 27 26 25 24 23 22\n",
      " 21 20 19 18 17 16 15]\n"
     ]
    }
   ],
   "source": [
    "#21. Write a NumPy program to reverse an array (the first element becomes the last).\n",
    "\n",
    "import numpy as np\n",
    "x = np.arange(15, 70)\n",
    "print(\"Original array:\")\n",
    "print(x)\n",
    "print(\"Reverse array:\")\n",
    "x = x[::-1]\n",
    "print(x) "
   ]
  },
  {
   "cell_type": "code",
   "execution_count": 27,
   "id": "704b4d5b-a686-4aea-8e48-0126659c0f31",
   "metadata": {},
   "outputs": [
    {
     "name": "stdout",
     "output_type": "stream",
     "text": [
      "Original array\n",
      "[1, 2, 3, 4]\n",
      "Array converted to a float type:\n",
      "[1. 2. 3. 4.]\n"
     ]
    }
   ],
   "source": [
    "# 22. Write a NumPy program to convert an data type into to a floating type.\n",
    "import numpy as np\n",
    "a = [1, 2, 3, 4]\n",
    "\n",
    "print(\"Original array\")\n",
    "print(a)\n",
    "x = np.asfarray(a)\n",
    "print(\"Array converted to a float type:\")\n",
    "print(x) "
   ]
  },
  {
   "cell_type": "code",
   "execution_count": 29,
   "id": "9e6bd406-8a26-492f-a931-4cfba2557b92",
   "metadata": {},
   "outputs": [
    {
     "name": "stdout",
     "output_type": "stream",
     "text": [
      "[8, 56, 77, 88, 4, 3, 2, 55, 66, 78, 9]\n",
      "[ 8 56 77 88  4  3  2 55 66 78  9]\n"
     ]
    }
   ],
   "source": [
    "#23 . Write a NumPy program to convert a list array.\n",
    "a = [8,56,77,88,4,3,2,55,66,78,9]\n",
    "print(a)\n",
    "\n",
    "c = np.array(a)\n",
    "print(c)"
   ]
  },
  {
   "cell_type": "code",
   "execution_count": 30,
   "id": "f776d649-106a-4f7e-aebb-a2b953d66aae",
   "metadata": {},
   "outputs": [
    {
     "name": "stdout",
     "output_type": "stream",
     "text": [
      "Original array:\n",
      "[0 1 2 3 4 5 6]\n",
      "Element-wise remainder of division:\n",
      "[0 1 2 3 4 0 1]\n"
     ]
    }
   ],
   "source": [
    "# 24 .Write a NumPy program to get the element-wise remainder of an array of division.\n",
    "import numpy as np\n",
    "x = np.arange(7)\n",
    "print(\"Original array:\")\n",
    "print(x)\n",
    "print(\"Element-wise remainder of division:\")\n",
    "print(np.remainder(x, 5)) "
   ]
  },
  {
   "cell_type": "code",
   "execution_count": 31,
   "id": "5e982932-fa43-4d3f-a54c-b592ae9223e4",
   "metadata": {},
   "outputs": [
    {
     "name": "stdout",
     "output_type": "stream",
     "text": [
      "[2 0 1 2 0 1 2 0 1 2 0 1 2 0 1 2 0 1 2 0 1 2 0 1 2 0 1 2 0 1]\n"
     ]
    }
   ],
   "source": [
    "# 25 .Write a NumPy program to get the element-wise remainder of an array of numbers from 20 to 50 which are divisible by 3.\n",
    "\n",
    "a = np.arange(20, 50)\n",
    "print(np.remainder(a, 3)) "
   ]
  },
  {
   "cell_type": "code",
   "execution_count": null,
   "id": "eaa612aa-d4aa-4149-856d-8ab554c9654f",
   "metadata": {},
   "outputs": [],
   "source": []
  }
 ],
 "metadata": {
  "kernelspec": {
   "display_name": "Python 3 (ipykernel)",
   "language": "python",
   "name": "python3"
  },
  "language_info": {
   "codemirror_mode": {
    "name": "ipython",
    "version": 3
   },
   "file_extension": ".py",
   "mimetype": "text/x-python",
   "name": "python",
   "nbconvert_exporter": "python",
   "pygments_lexer": "ipython3",
   "version": "3.10.12"
  }
 },
 "nbformat": 4,
 "nbformat_minor": 5
}
